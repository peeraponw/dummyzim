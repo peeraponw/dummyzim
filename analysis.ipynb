{
 "cells": [
  {
   "cell_type": "code",
   "execution_count": 1,
   "id": "driving-period",
   "metadata": {},
   "outputs": [],
   "source": [
    "import numpy as np\n",
    "import pandas as pd"
   ]
  },
  {
   "cell_type": "code",
   "execution_count": 2,
   "id": "furnished-neutral",
   "metadata": {},
   "outputs": [],
   "source": [
    "x = np.random.randint(low=0, high=100, size=(50, 3)) # temp, dTdt, dTdx\n",
    "y = np.random.randint(0,2, size=(50,1)) # True, False"
   ]
  },
  {
   "cell_type": "code",
   "execution_count": 3,
   "id": "mighty-doctor",
   "metadata": {},
   "outputs": [
    {
     "name": "stdout",
     "output_type": "stream",
     "text": [
      "0.44\n"
     ]
    }
   ],
   "source": [
    "print(y.mean())"
   ]
  },
  {
   "cell_type": "code",
   "execution_count": 4,
   "id": "organizational-carter",
   "metadata": {},
   "outputs": [
    {
     "name": "stdout",
     "output_type": "stream",
     "text": [
      "[1]\n",
      "[0]\n"
     ]
    },
    {
     "name": "stderr",
     "output_type": "stream",
     "text": [
      "c:\\users\\peera\\anaconda3\\envs\\fastapi\\lib\\site-packages\\ipykernel_launcher.py:4: DataConversionWarning: A column-vector y was passed when a 1d array was expected. Please change the shape of y to (n_samples,), for example using ravel().\n",
      "  after removing the cwd from sys.path.\n"
     ]
    }
   ],
   "source": [
    "from sklearn.ensemble import RandomForestClassifier\n",
    "\n",
    "clf = RandomForestClassifier(max_depth=2, random_state=0)\n",
    "clf.fit(x,y)\n",
    "\n",
    "print(clf.predict([[5,52,4]]))\n",
    "print(clf.predict([[5,2,4]]))"
   ]
  },
  {
   "cell_type": "code",
   "execution_count": 5,
   "id": "graduate-hollow",
   "metadata": {},
   "outputs": [
    {
     "data": {
      "text/plain": [
       "['rf.pkl']"
      ]
     },
     "execution_count": 5,
     "metadata": {},
     "output_type": "execute_result"
    }
   ],
   "source": [
    "import joblib\n",
    "joblib.dump(clf, 'rf.pkl')"
   ]
  },
  {
   "cell_type": "code",
   "execution_count": 6,
   "id": "optional-punch",
   "metadata": {},
   "outputs": [
    {
     "name": "stdout",
     "output_type": "stream",
     "text": [
      "[1]\n",
      "[1]\n"
     ]
    },
    {
     "name": "stderr",
     "output_type": "stream",
     "text": [
      "c:\\users\\peera\\anaconda3\\envs\\fastapi\\lib\\site-packages\\sklearn\\utils\\validation.py:63: DataConversionWarning: A column-vector y was passed when a 1d array was expected. Please change the shape of y to (n_samples, ), for example using ravel().\n",
      "  return f(*args, **kwargs)\n"
     ]
    }
   ],
   "source": [
    "from sklearn.linear_model import LogisticRegression\n",
    "\n",
    "clf = LogisticRegression(random_state=0)\n",
    "clf.fit(x,y)\n",
    "\n",
    "print(clf.predict([[5,52,4]]))\n",
    "print(clf.predict([[5,2,4]]))"
   ]
  },
  {
   "cell_type": "code",
   "execution_count": 7,
   "id": "little-chick",
   "metadata": {},
   "outputs": [
    {
     "data": {
      "text/plain": [
       "['lr.pkl']"
      ]
     },
     "execution_count": 7,
     "metadata": {},
     "output_type": "execute_result"
    }
   ],
   "source": [
    "joblib.dump(clf, 'lr.pkl')"
   ]
  },
  {
   "cell_type": "markdown",
   "id": "annoying-pride",
   "metadata": {},
   "source": [
    "# calling"
   ]
  },
  {
   "cell_type": "code",
   "execution_count": 1,
   "id": "handled-documentary",
   "metadata": {},
   "outputs": [],
   "source": [
    "import requests\n",
    "import json"
   ]
  },
  {
   "cell_type": "code",
   "execution_count": 2,
   "id": "confidential-palestinian",
   "metadata": {},
   "outputs": [],
   "source": [
    "temp = 5 # temp\n",
    "dTdt = 2 # dTdt\n",
    "dTdx = 4 # dTdx"
   ]
  },
  {
   "cell_type": "code",
   "execution_count": 21,
   "id": "educated-gnome",
   "metadata": {},
   "outputs": [
    {
     "data": {
      "text/plain": [
       "{'predict': False}"
      ]
     },
     "execution_count": 21,
     "metadata": {},
     "output_type": "execute_result"
    }
   ],
   "source": [
    "# local\n",
    "# uvicorn main:app --reload\n",
    "url = \"http://127.0.0.1:8000/api/\"\n",
    "\n",
    "res = requests.get(url+f\"?temp={temp}&dTdt={dTdt}&dTdx={dTdx}\")\n",
    "res.json()"
   ]
  },
  {
   "cell_type": "code",
   "execution_count": 22,
   "id": "nutritional-stanley",
   "metadata": {},
   "outputs": [
    {
     "data": {
      "text/plain": [
       "False"
      ]
     },
     "execution_count": 22,
     "metadata": {},
     "output_type": "execute_result"
    }
   ],
   "source": [
    "res.json()['predict']"
   ]
  },
  {
   "cell_type": "code",
   "execution_count": 3,
   "id": "grave-factory",
   "metadata": {},
   "outputs": [
    {
     "data": {
      "text/plain": [
       "{'predict': False}"
      ]
     },
     "execution_count": 3,
     "metadata": {},
     "output_type": "execute_result"
    }
   ],
   "source": [
    "# http\n",
    "url = \"https://dummyzim.herokuapp.com/api/\"\n",
    "\n",
    "res = requests.get(url+f\"?temp={temp}&dTdt={dTdt}&dTdx={dTdx}\")\n",
    "res.json()"
   ]
  },
  {
   "cell_type": "code",
   "execution_count": 4,
   "id": "loved-cedar",
   "metadata": {},
   "outputs": [
    {
     "data": {
      "text/plain": [
       "False"
      ]
     },
     "execution_count": 4,
     "metadata": {},
     "output_type": "execute_result"
    }
   ],
   "source": [
    "res.json()['predict']"
   ]
  }
 ],
 "metadata": {
  "kernelspec": {
   "display_name": "Python 3",
   "language": "python",
   "name": "python3"
  },
  "language_info": {
   "codemirror_mode": {
    "name": "ipython",
    "version": 3
   },
   "file_extension": ".py",
   "mimetype": "text/x-python",
   "name": "python",
   "nbconvert_exporter": "python",
   "pygments_lexer": "ipython3",
   "version": "3.8.5"
  }
 },
 "nbformat": 4,
 "nbformat_minor": 5
}
